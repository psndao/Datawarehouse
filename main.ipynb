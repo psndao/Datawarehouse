{
 "cells": [
  {
   "cell_type": "code",
   "execution_count": null,
   "metadata": {},
   "outputs": [
    {
     "name": "stdout",
     "output_type": "stream",
     "text": [
      "✅ Données insérées avec succès dans la base PostgreSQL\n"
     ]
    }
   ],
   "source": [
    "#les librairies necessaires\n",
    "import pandas as pd\n",
    "from sqlalchemy import create_engine\n",
    "from urllib.parse import quote_plus\n",
    "from dotenv import load_dotenv\n",
    "import os\n",
    "\n",
    "# Charger les variables d'environnement\n",
    "load_dotenv()\n",
    "\n",
    "# Récupérer les infos depuis .env\n",
    "user = os.getenv(\"DB_USER\")\n",
    "password = quote_plus(os.getenv(\"DB_PASSWORD\"))  \n",
    "host = os.getenv(\"DB_HOST\")\n",
    "port = os.getenv(\"DB_PORT\")\n",
    "db = os.getenv(\"DB_NAME\")\n",
    "\n",
    "# Connexion\n",
    "engine = create_engine(f'postgresql://{user}:{password}@{host}:{port}/{db}')\n",
    "\n",
    "# Chargement des données \n",
    "url = \"C:/Users/papes/OneDrive - Ecoles Galiléo Global Education France/Bureau/Cours Esg/Big Data/projet analyse spark/walmart_stock.csv\"\n",
    "df = pd.read_csv(url, encoding='latin1')\n",
    "\n",
    "# Injection dans PostgreSQL\n",
    "df.to_sql('commandes', engine, if_exists='replace', index=False)\n",
    "print(\"✅ Données insérées avec succès dans la base PostgreSQL\")\n"
   ]
  }
 ],
 "metadata": {
  "kernelspec": {
   "display_name": "Python 3",
   "language": "python",
   "name": "python3"
  },
  "language_info": {
   "codemirror_mode": {
    "name": "ipython",
    "version": 3
   },
   "file_extension": ".py",
   "mimetype": "text/x-python",
   "name": "python",
   "nbconvert_exporter": "python",
   "pygments_lexer": "ipython3",
   "version": "3.12.7"
  }
 },
 "nbformat": 4,
 "nbformat_minor": 2
}
